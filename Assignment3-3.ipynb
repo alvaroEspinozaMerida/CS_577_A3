{
 "cells": [
  {
   "cell_type": "markdown",
   "id": "configured-background",
   "metadata": {},
   "source": [
    "1# Assignment 3: Linear Regression and Gradient Descent from the Ground Up\n",
    "\n",
    "The goal of this assignment is to work through the fundamentals of Simple Linear Regression (one independent variable) with Mean Squared Error (average L2 loss) using Gradient Descent."
   ]
  },
  {
   "cell_type": "markdown",
   "id": "6c6bc330",
   "metadata": {},
   "source": [
    "## Submission Instructions\n",
    "\n",
    "- Please submit your notebook as a **Jupyter Notebook** on Canvas.\n",
    "- **Due Date: Wednesday, October 22 at 6:59pm**. \n",
    "- **No late submissions** will be accepted for this assignment."
   ]
  },
  {
   "cell_type": "markdown",
   "id": "7f83850a",
   "metadata": {},
   "source": [
    " ## Collaboration:\n",
    "\n"
   ]
  },
  {
   "cell_type": "markdown",
   "id": "b1c783f6",
   "metadata": {},
   "source": [
    "You are allowed to work with others on this assignment.\n",
    "\n",
    "Please list the names of those you work with below."
   ]
  },
  {
   "cell_type": "markdown",
   "id": "48b25847",
   "metadata": {},
   "source": [
    "Collaborators: "
   ]
  },
  {
   "cell_type": "markdown",
   "id": "06c4bd6f",
   "metadata": {},
   "source": [
    "## Part 0 - Imports and CoW"
   ]
  },
  {
   "cell_type": "code",
   "id": "5970326d",
   "metadata": {
    "ExecuteTime": {
     "end_time": "2025-10-21T22:16:15.180963Z",
     "start_time": "2025-10-21T22:16:14.981992Z"
    }
   },
   "source": [
    "import numpy as np\n",
    "import pandas as pd\n",
    "import matplotlib.pyplot as plt\n",
    "import seaborn as sns\n",
    "from sklearn.linear_model import LinearRegression"
   ],
   "outputs": [],
   "execution_count": 1
  },
  {
   "cell_type": "code",
   "id": "cc21059a",
   "metadata": {
    "ExecuteTime": {
     "end_time": "2025-10-21T16:19:06.782265Z",
     "start_time": "2025-10-21T16:19:06.779891Z"
    }
   },
   "source": [
    "#Set Copy-on-Write\n",
    "pd.options.mode.copy_on_write = True"
   ],
   "outputs": [],
   "execution_count": 4
  },
  {
   "cell_type": "markdown",
   "id": "elementary-population",
   "metadata": {},
   "source": [
    "## Part 1 : Linear Regression\n",
    "Suppose we create a linear model with parameters $\\vec{\\hat{\\beta}}=[\\hat{\\beta}_0,...,\\hat{\\beta}_p]$\n",
    "As we saw in lecture, such a model makes predictions $\\hat{y}=\\vec{\\hat{\\beta}}.\\vec{x}=\\sum{\\hat{\\beta}_ix_i}$ \n",
    "\n",
    "\n",
    "### 1.a. \n",
    "Suppose $\\vec{\\hat{\\beta}}=[1,2,1]$ and we receive an observation $x = [4, 2, 1]$. What $\\hat{y}$ value will\n",
    "this model predict for the given observation?"
   ]
  },
  {
   "cell_type": "markdown",
   "id": "valuable-french",
   "metadata": {},
   "source": "y = 9"
  },
  {
   "cell_type": "markdown",
   "id": "beneficial-burke",
   "metadata": {},
   "source": [
    "### 1.b.\n",
    "Suppose the correct $y$ was 6.1. What will be the L2 loss for our prediction $\\hat{y}$ from question 1.a?"
   ]
  },
  {
   "cell_type": "markdown",
   "id": "listed-savannah",
   "metadata": {},
   "source": "l2_loss = 9 - 6.1 = 2.9"
  },
  {
   "cell_type": "markdown",
   "id": "favorite-empire",
   "metadata": {},
   "source": [
    "## Part 2 : Gradient Descent with One Parameter\n",
    "\n",
    "The following function generates the dataset you need for the rest of the questions"
   ]
  },
  {
   "cell_type": "code",
   "id": "aboriginal-jurisdiction",
   "metadata": {
    "ExecuteTime": {
     "end_time": "2025-10-21T22:23:25.588367Z",
     "start_time": "2025-10-21T22:23:25.583867Z"
    }
   },
   "source": [
    "# This function helps generate a synthetic dataset based on a given slope value\n",
    "def generate_dataset(slope, std=1, num_samples=100, with_intercept=True):\n",
    "    X = np.random.random_sample(num_samples)\n",
    "    e = np.random.randn(num_samples) * std \n",
    "    intercept = -int(with_intercept) * 2\n",
    "    Y = slope * X + intercept + e\n",
    "    #X=X.reshape(-1, 1)\n",
    "    #Y=Y.reshape(-1, 1)\n",
    "    data=pd.DataFrame({'X':X, 'Y':Y})\n",
    "    return data"
   ],
   "outputs": [],
   "execution_count": 3
  },
  {
   "cell_type": "code",
   "id": "hollow-arthur",
   "metadata": {
    "ExecuteTime": {
     "end_time": "2025-10-21T22:23:27.367252Z",
     "start_time": "2025-10-21T22:23:27.349249Z"
    }
   },
   "source": [
    "# Example:\n",
    "data = generate_dataset(slope=10)\n",
    "data"
   ],
   "outputs": [
    {
     "data": {
      "text/plain": [
       "           X         Y\n",
       "0   0.981997  7.312173\n",
       "1   0.061754  0.459787\n",
       "2   0.576274  3.748995\n",
       "3   0.901987  6.902705\n",
       "4   0.463515  1.188907\n",
       "..       ...       ...\n",
       "95  0.091666 -1.703185\n",
       "96  0.803868  5.817812\n",
       "97  0.125400  0.076406\n",
       "98  0.502113  5.038664\n",
       "99  0.469163  1.962228\n",
       "\n",
       "[100 rows x 2 columns]"
      ],
      "text/html": [
       "<div>\n",
       "<style scoped>\n",
       "    .dataframe tbody tr th:only-of-type {\n",
       "        vertical-align: middle;\n",
       "    }\n",
       "\n",
       "    .dataframe tbody tr th {\n",
       "        vertical-align: top;\n",
       "    }\n",
       "\n",
       "    .dataframe thead th {\n",
       "        text-align: right;\n",
       "    }\n",
       "</style>\n",
       "<table border=\"1\" class=\"dataframe\">\n",
       "  <thead>\n",
       "    <tr style=\"text-align: right;\">\n",
       "      <th></th>\n",
       "      <th>X</th>\n",
       "      <th>Y</th>\n",
       "    </tr>\n",
       "  </thead>\n",
       "  <tbody>\n",
       "    <tr>\n",
       "      <th>0</th>\n",
       "      <td>0.981997</td>\n",
       "      <td>7.312173</td>\n",
       "    </tr>\n",
       "    <tr>\n",
       "      <th>1</th>\n",
       "      <td>0.061754</td>\n",
       "      <td>0.459787</td>\n",
       "    </tr>\n",
       "    <tr>\n",
       "      <th>2</th>\n",
       "      <td>0.576274</td>\n",
       "      <td>3.748995</td>\n",
       "    </tr>\n",
       "    <tr>\n",
       "      <th>3</th>\n",
       "      <td>0.901987</td>\n",
       "      <td>6.902705</td>\n",
       "    </tr>\n",
       "    <tr>\n",
       "      <th>4</th>\n",
       "      <td>0.463515</td>\n",
       "      <td>1.188907</td>\n",
       "    </tr>\n",
       "    <tr>\n",
       "      <th>...</th>\n",
       "      <td>...</td>\n",
       "      <td>...</td>\n",
       "    </tr>\n",
       "    <tr>\n",
       "      <th>95</th>\n",
       "      <td>0.091666</td>\n",
       "      <td>-1.703185</td>\n",
       "    </tr>\n",
       "    <tr>\n",
       "      <th>96</th>\n",
       "      <td>0.803868</td>\n",
       "      <td>5.817812</td>\n",
       "    </tr>\n",
       "    <tr>\n",
       "      <th>97</th>\n",
       "      <td>0.125400</td>\n",
       "      <td>0.076406</td>\n",
       "    </tr>\n",
       "    <tr>\n",
       "      <th>98</th>\n",
       "      <td>0.502113</td>\n",
       "      <td>5.038664</td>\n",
       "    </tr>\n",
       "    <tr>\n",
       "      <th>99</th>\n",
       "      <td>0.469163</td>\n",
       "      <td>1.962228</td>\n",
       "    </tr>\n",
       "  </tbody>\n",
       "</table>\n",
       "<p>100 rows × 2 columns</p>\n",
       "</div>"
      ]
     },
     "execution_count": 4,
     "metadata": {},
     "output_type": "execute_result"
    }
   ],
   "execution_count": 4
  },
  {
   "cell_type": "markdown",
   "id": "decent-fruit",
   "metadata": {},
   "source": [
    "### 2.a.\n",
    "\n",
    "Using the following functions (gradient descent, mse_loss, and mse_loss_derivative), find the best value of slope that the gradient descent algorithm can find in 100 iterations for initial slope=0.1 and $\\alpha=0.01$. "
   ]
  },
  {
   "cell_type": "code",
   "id": "ruled-thousand",
   "metadata": {
    "ExecuteTime": {
     "end_time": "2025-10-21T18:21:51.128820Z",
     "start_time": "2025-10-21T18:21:51.123267Z"
    }
   },
   "source": [
    "def gradient_descent(df, initial_guess, alpha, n, data):\n",
    "    #len of guess = 1\n",
    "    guesses = [initial_guess]\n",
    "    guess = initial_guess\n",
    "    epoch_loss = {}\n",
    "    i = 1\n",
    "\n",
    "    while len(guesses) < n:\n",
    "        #loss\n",
    "        loss = mse_loss(guess, data)\n",
    "        epoch_loss[i] = loss\n",
    "        # weight update\n",
    "        guess = guess - alpha * df(guess,data)\n",
    "        guesses.append(guess)\n",
    "        i+=1\n",
    "\n",
    "    return np.array(guesses), epoch_loss\n",
    "\n",
    "def mse_loss(slope, data):\n",
    "    ''' Mean Squared Error Loss Function '''\n",
    "    x = data['X']\n",
    "    y_obs = data['Y']\n",
    "    y_hat = slope * x\n",
    "    return np.mean((y_hat - y_obs) ** 2)  \n",
    "\n",
    "def mse_loss_derivative(slope, data):\n",
    "    x = data['X']\n",
    "    y_obs = data['Y']\n",
    "    y_hat = slope * x\n",
    "    return np.mean(2 * (y_hat - y_obs) * x)"
   ],
   "outputs": [],
   "execution_count": 21
  },
  {
   "cell_type": "code",
   "id": "offshore-sacramento",
   "metadata": {
    "ExecuteTime": {
     "end_time": "2025-10-21T19:07:32.315612Z",
     "start_time": "2025-10-21T19:07:32.261666Z"
    }
   },
   "source": [
    "slope = .1\n",
    "a = .01\n",
    "epochs = 100\n",
    "\n",
    "\n",
    "weights, losses = gradient_descent(df=mse_loss_derivative, initial_guess=slope, alpha=a, n=epochs, data=data)\n",
    "\n",
    "\n",
    "best_slope1 = weights[-1]\n",
    "\n",
    "\n",
    "print(f\"Best Slope: {best_slope1}\")\n",
    "print(f\"Final Loss: {losses[99]}\")\n",
    "\n",
    "\n"
   ],
   "outputs": [
    {
     "name": "stdout",
     "output_type": "stream",
     "text": [
      "Best Slope: 3.6654728037430364\n",
      "Final Loss: 6.769611881463041\n"
     ]
    }
   ],
   "execution_count": 48
  },
  {
   "cell_type": "markdown",
   "id": "supported-young",
   "metadata": {},
   "source": [
    "### 2.b.\n",
    "\n",
    "Now change the learning rate to be $\\alpha=0.1$ and repeat 2.a\n"
   ]
  },
  {
   "cell_type": "code",
   "id": "emerging-board",
   "metadata": {
    "ExecuteTime": {
     "end_time": "2025-10-21T19:07:34.573008Z",
     "start_time": "2025-10-21T19:07:34.519600Z"
    }
   },
   "source": [
    "slope = .1\n",
    "a = .1\n",
    "epochs = 100\n",
    "\n",
    "weights, losses = gradient_descent(df=mse_loss_derivative, initial_guess=slope, alpha=a, n=epochs, data=data)\n",
    "\n",
    "best_slope2 = weights[-1]\n",
    "print(f\"Best Slope: {best_slope2}\")\n",
    "print(f\"Final Loss: {losses[99]}\")\n"
   ],
   "outputs": [
    {
     "name": "stdout",
     "output_type": "stream",
     "text": [
      "Best Slope: 7.322207484549413\n",
      "Final Loss: 2.115255867208168\n"
     ]
    }
   ],
   "execution_count": 49
  },
  {
   "cell_type": "markdown",
   "id": "extra-discussion",
   "metadata": {},
   "source": [
    "### 2.c.\n",
    "\n",
    "Create two plots showing the simple linear regression models you fitted on the observed data when you pick the slope using the gradient descent algorithm above. One plot for data with and one plot for data without an intercept. Each plot should include at least the following:\n",
    "- A scatter plot of all the observed data\n",
    "- Regression lines for the simple linear regression models \n",
    "- An appropriate title, a legend showing which line is which, and labels for both axes\n",
    "\n",
    "Clarification: Take the data generated (with_intercept=True) for 2A and 2B and plot the two lines that you fitted from 2A and 2B, plotted with a scatterplot of the data. Thats one plot. Then generate a new dataset without an intercept (set with_intercept=False when you call generate_dataset) and do the same plot again; two lines, one for each learning rate. The lines you are fitting are still models with no \"bias term\" (no theta-zero).\n"
   ]
  },
  {
   "cell_type": "code",
   "id": "37fc69e1",
   "metadata": {
    "ExecuteTime": {
     "end_time": "2025-10-21T19:07:37.081704Z",
     "start_time": "2025-10-21T19:07:36.940450Z"
    }
   },
   "source": [
    "sns.scatterplot(data=data, x='X', y='Y')\n",
    "plt.plot(data['X'], best_slope1 * data['X'], label='a = .01')\n",
    "plt.plot(data['X'], best_slope2 * data['X'], label='a = .1')\n",
    "plt.plot()\n",
    "plt.legend()\n",
    "plt.title('Simple Linear Regression with Gradient Descent with Intercept = True')\n",
    "plt.xlabel('X')\n",
    "plt.ylabel('Y')\n",
    "plt.show()"
   ],
   "outputs": [
    {
     "data": {
      "text/plain": [
       "<Figure size 640x480 with 1 Axes>"
      ],
      "image/png": "[encoded data removed]"
     },
     "metadata": {},
     "output_type": "display_data",
     "jetTransient": {
      "display_id": null
     }
    }
   ],
   "execution_count": 50
  },
  {
   "metadata": {
    "ExecuteTime": {
     "end_time": "2025-10-21T19:07:41.685777Z",
     "start_time": "2025-10-21T19:07:41.683176Z"
    }
   },
   "cell_type": "code",
   "source": "data2 = generate_dataset(slope=10, with_intercept=False)\n",
   "id": "ac047bb351957992",
   "outputs": [],
   "execution_count": 51
  },
  {
   "metadata": {},
   "cell_type": "markdown",
   "source": "We need to go back and retrain the model with this new data now that it has data with no intercept",
   "id": "237f67b35ec6339"
  },
  {
   "metadata": {
    "ExecuteTime": {
     "end_time": "2025-10-21T19:07:47.901705Z",
     "start_time": "2025-10-21T19:07:47.844917Z"
    }
   },
   "cell_type": "code",
   "source": [
    "slope = .1\n",
    "a = .1\n",
    "epochs = 100\n",
    "\n",
    "\n",
    "weights, losses = gradient_descent(df=mse_loss_derivative, initial_guess=slope, alpha=a, n=epochs, data=data2)\n",
    "\n",
    "\n",
    "best_slope3 = weights[-1]\n",
    "\n",
    "\n",
    "print(f\"Best Slope: {best_slope3}\")\n",
    "print(f\"Final Loss: {losses[99]}\")\n",
    "\n"
   ],
   "id": "27d33aae30bc5ad",
   "outputs": [
    {
     "name": "stdout",
     "output_type": "stream",
     "text": [
      "Best Slope: 9.764667474911759\n",
      "Final Loss: 1.1181350086086022\n"
     ]
    }
   ],
   "execution_count": 52
  },
  {
   "metadata": {
    "ExecuteTime": {
     "end_time": "2025-10-21T19:09:01.870658Z",
     "start_time": "2025-10-21T19:09:01.812954Z"
    }
   },
   "cell_type": "code",
   "source": [
    "slope = .1\n",
    "a = .01\n",
    "epochs = 100\n",
    "\n",
    "\n",
    "weights, losses = gradient_descent(df=mse_loss_derivative, initial_guess=slope, alpha=a, n=epochs, data=data2)\n",
    "\n",
    "\n",
    "best_slope4 = weights[-1]\n",
    "\n",
    "\n",
    "print(f\"Best Slope: {best_slope4}\")\n",
    "print(f\"Final Loss: {losses[99]}\")"
   ],
   "id": "1e91d9bd3fde313c",
   "outputs": [
    {
     "name": "stdout",
     "output_type": "stream",
     "text": [
      "Best Slope: 5.4545185912925715\n",
      "Final Loss: 8.79297078588275\n"
     ]
    }
   ],
   "execution_count": 56
  },
  {
   "metadata": {
    "ExecuteTime": {
     "end_time": "2025-10-21T19:09:03.225836Z",
     "start_time": "2025-10-21T19:09:03.064052Z"
    }
   },
   "cell_type": "code",
   "source": [
    "sns.scatterplot(data=data2, x='X', y='Y')\n",
    "plt.plot(data2['X'], best_slope3 * data2['X'], label='a = .01')\n",
    "plt.plot(data2['X'], best_slope4 * data2['X'], label='a = .1')\n",
    "plt.plot()\n",
    "plt.legend()\n",
    "plt.title('Simple Linear Regression with Gradient Descent with Intercept = False')\n",
    "plt.xlabel('X')\n",
    "plt.ylabel('Y')\n",
    "plt.show()"
   ],
   "id": "81f07481b66c463f",
   "outputs": [
    {
     "data": {
      "text/plain": [
       "<Figure size 640x480 with 1 Axes>"
      ],
      "image/png": "[encoded data removed]"
     },
     "metadata": {},
     "output_type": "display_data",
     "jetTransient": {
      "display_id": null
     }
    }
   ],
   "execution_count": 57
  },
  {
   "cell_type": "markdown",
   "id": "understood-haven",
   "metadata": {},
   "source": [
    "### 2.d.\n",
    "Which value of $\\alpha$ resulted in a better model? Why?"
   ]
  },
  {
   "cell_type": "markdown",
   "id": "compliant-moscow",
   "metadata": {},
   "source": [
    "The value that resulted in the best a value was the .1 value; the reason is why because it was a larger step size meaning that the model was updating at a faster\n",
    "rate, then the .01 value. However if given more training epochs the .01 maybe able to better fit and result in lower loss then the .1 value."
   ]
  },
  {
   "cell_type": "markdown",
   "id": "lightweight-darwin",
   "metadata": {},
   "source": [
    "## Part 3 : Gradient Descent with 1-2 parameters\n",
    "\n",
    "### 3.a. \n",
    "Problem 2 did not include an intercept term (or \"bias\" term). Write a function calculate_y_hat(X, Y, with_intercept) that computes the value of y_hat for your model using either one or two parameters (slope and intercept or just slope) based on whether or not an intercept term is specified within the model. The argument with_intercept should be a boolean.\n",
    "\n",
    "Hint: Use sklearn.linear_model.LinearRegression library\n",
    "\n",
    "https://scikit-learn.org/stable/modules/generated/sklearn.linear_model.LinearRegression.html"
   ]
  },
  {
   "cell_type": "code",
   "id": "infrared-reynolds",
   "metadata": {
    "ExecuteTime": {
     "end_time": "2025-10-21T22:41:00.778981Z",
     "start_time": "2025-10-21T22:41:00.773922Z"
    }
   },
   "source": [
    "\n",
    "def calculate_y_hat(X, Y, theta, theta_0,with_intercept):\n",
    "    \"\"\"\n",
    "        Calculuates y hat with or without the intercept.\n",
    "        Parameters\n",
    "        ----------\n",
    "        X: feature data\n",
    "        Y: target data\n",
    "\n",
    "        Returns\n",
    "        -------\n",
    "        weights needed for final model\n",
    "\n",
    "    \"\"\"\n",
    "    x = data['X']\n",
    "    if with_intercept:\n",
    "        y_hat = theta * x + theta_0\n",
    "    else:\n",
    "        y_hat = theta * x\n",
    "    return y_hat\n",
    "\n"
   ],
   "outputs": [],
   "execution_count": 5
  },
  {
   "metadata": {
    "ExecuteTime": {
     "end_time": "2025-10-21T23:07:08.726192Z",
     "start_time": "2025-10-21T23:07:08.692103Z"
    }
   },
   "cell_type": "code",
   "source": [
    "## training for y hat no theta_0\n",
    "epochs = 100\n",
    "theta = 0\n",
    "theta_0 = 0\n",
    "alpha = .1\n",
    "\n",
    "thetas = [theta]\n",
    "epochs_loss = {}\n",
    "\n",
    "for i in range(epochs):\n",
    "    y_hat = calculate_y_hat(data[\"X\"], data[\"Y\"], theta, theta_0, with_intercept=False)\n",
    "\n",
    "    loss  = np.mean((y_hat - data[\"Y\"]) ** 2)\n",
    "    epochs_loss[i] = loss\n",
    "    #theta update\n",
    "    theta = theta - alpha * np.mean(2 * (y_hat - data[\"Y\"]) * data[\"X\"])\n",
    "    thetas.append(theta)\n",
    "\n",
    "    #no theta_0 update here\n",
    "best_theta1 = thetas[-1]\n",
    "print(\"Best theta, \", best_theta1)\n",
    "print(\"Final loss: \", epochs_loss[99])\n",
    "\n",
    "\n"
   ],
   "id": "cf316c2f4ed6b4b6",
   "outputs": [
    {
     "name": "stdout",
     "output_type": "stream",
     "text": [
      "Best theta,  7.322000251425763\n",
      "Final loss:  1.8354046677584634\n"
     ]
    }
   ],
   "execution_count": 21
  },
  {
   "metadata": {
    "ExecuteTime": {
     "end_time": "2025-10-21T23:07:15.529614Z",
     "start_time": "2025-10-21T23:07:15.480605Z"
    }
   },
   "cell_type": "code",
   "source": [
    "epochs = 100\n",
    "theta = 0\n",
    "theta_0 = 0\n",
    "alpha = .1\n",
    "\n",
    "thetas = [(theta, theta_0)]\n",
    "epochs_loss = {}\n",
    "\n",
    "for i in range(epochs):\n",
    "    y_hat = calculate_y_hat(data[\"X\"], data[\"Y\"], theta, theta_0, with_intercept=True)\n",
    "\n",
    "    loss  = np.mean((y_hat - data[\"Y\"]) ** 2)\n",
    "    epochs_loss[i] = loss\n",
    "    #theta update\n",
    "    theta = theta - alpha * np.mean(2 * (y_hat - data[\"Y\"]) * data[\"X\"])\n",
    "    theta_0 = theta_0 - alpha * np.mean(2 * (y_hat - data[\"Y\"]))\n",
    "\n",
    "    thetas.append((theta, theta_0))\n",
    "\n",
    "    #no theta_0 update here\n",
    "best_theta2 = thetas[-1]\n",
    "print(\"Best theta, \", best_theta2)\n",
    "print(\"Final loss: \", epochs_loss[99])\n"
   ],
   "id": "1c3b9f11ec6ece01",
   "outputs": [
    {
     "name": "stdout",
     "output_type": "stream",
     "text": [
      "Best theta,  (7.785449534465292, -0.5927310418603001)\n",
      "Final loss:  1.4755203062314226\n"
     ]
    }
   ],
   "execution_count": 22
  },
  {
   "cell_type": "markdown",
   "id": "undefined-acting",
   "metadata": {},
   "source": [
    ")### 3.b.\n",
    "\n",
    "Create a plot below comparing our fitted simple linear regression model on the observed data for when it includes an intercept v.s. when it does not include an intercept. Your plot should include at least the following:\n",
    "- A scatter plot of all the observed data\n",
    "- A line plot for the simple linear regression model without an intercept\n",
    "- A line plot for the simple linear regression model with an intercept\n",
    "- An appropriate title, a legend labeling which line contains an intercept, and labels for both axes\n",
    "\n",
    "You should use different colors for the two line plots"
   ]
  },
  {
   "cell_type": "code",
   "id": "integrated-fellow",
   "metadata": {
    "ExecuteTime": {
     "end_time": "2025-10-21T23:06:53.330425Z",
     "start_time": "2025-10-21T23:06:53.213074Z"
    }
   },
   "source": [
    "theta, theta_0 = best_theta2\n",
    "\n",
    "sns.scatterplot(data=data, x='X', y='Y')\n",
    "plt.plot(data['X'], best_theta1 * data['X'], label='with no theta_0')\n",
    "plt.plot(data['X'], theta * data['X'] + theta_0, label=' with theta_0')\n",
    "plt.legend()\n",
    "plt.title('Simple Linear Regression with Gradient Descent with Intercept = True')\n",
    "plt.xlabel('X')\n",
    "plt.ylabel('Y')\n",
    "plt.show()"
   ],
   "outputs": [
    {
     "data": {
      "text/plain": [
       "<Figure size 640x480 with 1 Axes>"
      ],
      "image/png": "[encoded data removed]"
     },
     "metadata": {},
     "output_type": "display_data"
    }
   ],
   "execution_count": 20
  }
 ],
 "metadata": {
  "kernelspec": {
   "display_name": "Python 3",
   "language": "python",
   "name": "python3"
  },
  "language_info": {
   "codemirror_mode": {
    "name": "ipython",
    "version": 3
   },
   "file_extension": ".py",
   "mimetype": "text/x-python",
   "name": "python",
   "nbconvert_exporter": "python",
   "pygments_lexer": "ipython3",
   "version": "3.9.1"
  }
 },
 "nbformat": 4,
 "nbformat_minor": 5
}
