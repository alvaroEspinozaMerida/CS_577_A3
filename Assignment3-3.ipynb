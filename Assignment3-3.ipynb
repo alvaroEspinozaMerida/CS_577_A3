{
 "cells": [
  {
   "cell_type": "markdown",
   "id": "configured-background",
   "metadata": {},
   "source": [
    "1# Assignment 3: Linear Regression and Gradient Descent from the Ground Up\n",
    "\n",
    "The goal of this assignment is to work through the fundamentals of Simple Linear Regression (one independent variable) with Mean Squared Error (average L2 loss) using Gradient Descent."
   ]
  },
  {
   "cell_type": "markdown",
   "id": "6c6bc330",
   "metadata": {},
   "source": [
    "## Submission Instructions\n",
    "\n",
    "- Please submit your notebook as a **Jupyter Notebook** on Canvas.\n",
    "- **Due Date: Wednesday, October 22 at 6:59pm**. \n",
    "- **No late submissions** will be accepted for this assignment."
   ]
  },
  {
   "cell_type": "markdown",
   "id": "7f83850a",
   "metadata": {},
   "source": [
    " ## Collaboration:\n",
    "\n"
   ]
  },
  {
   "cell_type": "markdown",
   "id": "b1c783f6",
   "metadata": {},
   "source": [
    "You are allowed to work with others on this assignment.\n",
    "\n",
    "Please list the names of those you work with below."
   ]
  },
  {
   "cell_type": "markdown",
   "id": "48b25847",
   "metadata": {},
   "source": [
    "Collaborators: "
   ]
  },
  {
   "cell_type": "markdown",
   "id": "06c4bd6f",
   "metadata": {},
   "source": [
    "## Part 0 - Imports and CoW"
   ]
  },
  {
   "cell_type": "code",
   "id": "5970326d",
   "metadata": {
    "ExecuteTime": {
     "end_time": "2025-10-22T16:35:14.194969Z",
     "start_time": "2025-10-22T16:35:14.192382Z"
    }
   },
   "source": [
    "import numpy as np\n",
    "import pandas as pd\n",
    "import matplotlib.pyplot as plt\n",
    "import seaborn as sns\n",
    "# from sklearn.linear_model import LinearRegression"
   ],
   "outputs": [],
   "execution_count": 3
  },
  {
   "cell_type": "code",
   "id": "cc21059a",
   "metadata": {
    "ExecuteTime": {
     "end_time": "2025-10-22T16:35:19.330085Z",
     "start_time": "2025-10-22T16:35:19.327498Z"
    }
   },
   "source": [
    "#Set Copy-on-Write\n",
    "pd.options.mode.copy_on_write = True"
   ],
   "outputs": [],
   "execution_count": 4
  },
  {
   "cell_type": "markdown",
   "id": "elementary-population",
   "metadata": {},
   "source": [
    "## Part 1 : Linear Regression\n",
    "Suppose we create a linear model with parameters $\\vec{\\hat{\\beta}}=[\\hat{\\beta}_0,...,\\hat{\\beta}_p]$\n",
    "As we saw in lecture, such a model makes predictions $\\hat{y}=\\vec{\\hat{\\beta}}.\\vec{x}=\\sum{\\hat{\\beta}_ix_i}$ \n",
    "\n",
    "\n",
    "### 1.a. \n",
    "Suppose $\\vec{\\hat{\\beta}}=[1,2,1]$ and we receive an observation $x = [4, 2, 1]$. What $\\hat{y}$ value will\n",
    "this model predict for the given observation?"
   ]
  },
  {
   "cell_type": "markdown",
   "id": "valuable-french",
   "metadata": {},
   "source": "y = 9"
  },
  {
   "cell_type": "markdown",
   "id": "beneficial-burke",
   "metadata": {},
   "source": [
    "### 1.b.\n",
    "Suppose the correct $y$ was 6.1. What will be the L2 loss for our prediction $\\hat{y}$ from question 1.a?"
   ]
  },
  {
   "cell_type": "markdown",
   "id": "listed-savannah",
   "metadata": {},
   "source": "l2_loss = (9 - 6.1)^2 = 8.41"
  },
  {
   "cell_type": "markdown",
   "id": "favorite-empire",
   "metadata": {},
   "source": [
    "## Part 2 : Gradient Descent with One Parameter\n",
    "\n",
    "The following function generates the dataset you need for the rest of the questions"
   ]
  },
  {
   "cell_type": "code",
   "id": "aboriginal-jurisdiction",
   "metadata": {
    "ExecuteTime": {
     "end_time": "2025-10-22T16:35:22.664263Z",
     "start_time": "2025-10-22T16:35:22.661013Z"
    }
   },
   "source": [
    "# This function helps generate a synthetic dataset based on a given slope value\n",
    "def generate_dataset(slope, std=1, num_samples=100, with_intercept=True):\n",
    "    X = np.random.random_sample(num_samples)\n",
    "    e = np.random.randn(num_samples) * std \n",
    "    intercept = -int(with_intercept) * 2\n",
    "    Y = slope * X + intercept + e\n",
    "    #X=X.reshape(-1, 1)\n",
    "    #Y=Y.reshape(-1, 1)\n",
    "    data=pd.DataFrame({'X':X, 'Y':Y})\n",
    "    return data"
   ],
   "outputs": [],
   "execution_count": 5
  },
  {
   "cell_type": "code",
   "id": "hollow-arthur",
   "metadata": {
    "ExecuteTime": {
     "end_time": "2025-10-22T16:35:24.595289Z",
     "start_time": "2025-10-22T16:35:24.577791Z"
    }
   },
   "source": [
    "# Example:\n",
    "data = generate_dataset(slope=10)\n",
    "data"
   ],
   "outputs": [
    {
     "data": {
      "text/plain": [
       "           X         Y\n",
       "0   0.029899 -1.269616\n",
       "1   0.589879  4.374714\n",
       "2   0.614994  4.185305\n",
       "3   0.147657  1.147699\n",
       "4   0.417892  2.428203\n",
       "..       ...       ...\n",
       "95  0.232847  1.439235\n",
       "96  0.273259  0.767211\n",
       "97  0.677513  2.891462\n",
       "98  0.477125  3.442849\n",
       "99  0.902535  7.226855\n",
       "\n",
       "[100 rows x 2 columns]"
      ],
      "text/html": [
       "<div>\n",
       "<style scoped>\n",
       "    .dataframe tbody tr th:only-of-type {\n",
       "        vertical-align: middle;\n",
       "    }\n",
       "\n",
       "    .dataframe tbody tr th {\n",
       "        vertical-align: top;\n",
       "    }\n",
       "\n",
       "    .dataframe thead th {\n",
       "        text-align: right;\n",
       "    }\n",
       "</style>\n",
       "<table border=\"1\" class=\"dataframe\">\n",
       "  <thead>\n",
       "    <tr style=\"text-align: right;\">\n",
       "      <th></th>\n",
       "      <th>X</th>\n",
       "      <th>Y</th>\n",
       "    </tr>\n",
       "  </thead>\n",
       "  <tbody>\n",
       "    <tr>\n",
       "      <th>0</th>\n",
       "      <td>0.029899</td>\n",
       "      <td>-1.269616</td>\n",
       "    </tr>\n",
       "    <tr>\n",
       "      <th>1</th>\n",
       "      <td>0.589879</td>\n",
       "      <td>4.374714</td>\n",
       "    </tr>\n",
       "    <tr>\n",
       "      <th>2</th>\n",
       "      <td>0.614994</td>\n",
       "      <td>4.185305</td>\n",
       "    </tr>\n",
       "    <tr>\n",
       "      <th>3</th>\n",
       "      <td>0.147657</td>\n",
       "      <td>1.147699</td>\n",
       "    </tr>\n",
       "    <tr>\n",
       "      <th>4</th>\n",
       "      <td>0.417892</td>\n",
       "      <td>2.428203</td>\n",
       "    </tr>\n",
       "    <tr>\n",
       "      <th>...</th>\n",
       "      <td>...</td>\n",
       "      <td>...</td>\n",
       "    </tr>\n",
       "    <tr>\n",
       "      <th>95</th>\n",
       "      <td>0.232847</td>\n",
       "      <td>1.439235</td>\n",
       "    </tr>\n",
       "    <tr>\n",
       "      <th>96</th>\n",
       "      <td>0.273259</td>\n",
       "      <td>0.767211</td>\n",
       "    </tr>\n",
       "    <tr>\n",
       "      <th>97</th>\n",
       "      <td>0.677513</td>\n",
       "      <td>2.891462</td>\n",
       "    </tr>\n",
       "    <tr>\n",
       "      <th>98</th>\n",
       "      <td>0.477125</td>\n",
       "      <td>3.442849</td>\n",
       "    </tr>\n",
       "    <tr>\n",
       "      <th>99</th>\n",
       "      <td>0.902535</td>\n",
       "      <td>7.226855</td>\n",
       "    </tr>\n",
       "  </tbody>\n",
       "</table>\n",
       "<p>100 rows × 2 columns</p>\n",
       "</div>"
      ]
     },
     "execution_count": 6,
     "metadata": {},
     "output_type": "execute_result"
    }
   ],
   "execution_count": 6
  },
  {
   "cell_type": "markdown",
   "id": "decent-fruit",
   "metadata": {},
   "source": [
    "### 2.a.\n",
    "\n",
    "Using the following functions (gradient descent, mse_loss, and mse_loss_derivative), find the best value of slope that the gradient descent algorithm can find in 100 iterations for initial slope=0.1 and $\\alpha=0.01$. "
   ]
  },
  {
   "cell_type": "code",
   "id": "ruled-thousand",
   "metadata": {
    "ExecuteTime": {
     "end_time": "2025-10-22T16:35:33.751830Z",
     "start_time": "2025-10-22T16:35:33.747522Z"
    }
   },
   "source": [
    "def gradient_descent(df, initial_guess, alpha, n, data):\n",
    "    #len of guess = 1\n",
    "    guesses = [initial_guess]\n",
    "    guess = initial_guess\n",
    "    epoch_loss = {}\n",
    "    i = 1\n",
    "\n",
    "    while len(guesses) < n:\n",
    "        #loss\n",
    "        loss = mse_loss(guess, data)\n",
    "        epoch_loss[i] = loss\n",
    "        # weight update\n",
    "        guess = guess - alpha * df(guess,data)\n",
    "        guesses.append(guess)\n",
    "        i+=1\n",
    "\n",
    "    return np.array(guesses), epoch_loss\n",
    "\n",
    "def mse_loss(slope, data):\n",
    "    ''' Mean Squared Error Loss Function '''\n",
    "    x = data['X']\n",
    "    y_obs = data['Y']\n",
    "    y_hat = slope * x\n",
    "    return np.mean((y_hat - y_obs) ** 2)  \n",
    "\n",
    "def mse_loss_derivative(slope, data):\n",
    "    x = data['X']\n",
    "    y_obs = data['Y']\n",
    "    y_hat = slope * x\n",
    "    return np.mean(2 * (y_hat - y_obs) * x)"
   ],
   "outputs": [],
   "execution_count": 7
  },
  {
   "cell_type": "code",
   "id": "offshore-sacramento",
   "metadata": {
    "ExecuteTime": {
     "end_time": "2025-10-22T16:35:38.217450Z",
     "start_time": "2025-10-22T16:35:38.147645Z"
    }
   },
   "source": [
    "slope = .1\n",
    "a = .01\n",
    "epochs = 100\n",
    "\n",
    "\n",
    "weights, losses = gradient_descent(df=mse_loss_derivative, initial_guess=slope, alpha=a, n=epochs, data=data)\n",
    "best_slope1 = weights[-1]\n",
    "print(f\"Best Slope: {best_slope1}\")\n",
    "print(f\"Final Loss: {losses[99]}\")"
   ],
   "outputs": [
    {
     "name": "stdout",
     "output_type": "stream",
     "text": [
      "Best Slope: 3.0038439414611404\n",
      "Final Loss: 5.719695345197444\n"
     ]
    }
   ],
   "execution_count": 8
  },
  {
   "cell_type": "markdown",
   "id": "supported-young",
   "metadata": {},
   "source": [
    "### 2.b.\n",
    "\n",
    "Now change the learning rate to be $\\alpha=0.1$ and repeat 2.a\n"
   ]
  },
  {
   "cell_type": "code",
   "id": "emerging-board",
   "metadata": {
    "ExecuteTime": {
     "end_time": "2025-10-22T16:35:41.885917Z",
     "start_time": "2025-10-22T16:35:41.819573Z"
    }
   },
   "source": [
    "slope = .1\n",
    "a = .1\n",
    "epochs = 100\n",
    "\n",
    "weights, losses = gradient_descent(df=mse_loss_derivative, initial_guess=slope, alpha=a, n=epochs, data=data)\n",
    "\n",
    "best_slope2 = weights[-1]\n",
    "print(f\"Best Slope: {best_slope2}\")\n",
    "print(f\"Final Loss: {losses[99]}\")\n"
   ],
   "outputs": [
    {
     "name": "stdout",
     "output_type": "stream",
     "text": [
      "Best Slope: 6.470548544405795\n",
      "Final Loss: 1.9756213175727622\n"
     ]
    }
   ],
   "execution_count": 9
  },
  {
   "cell_type": "markdown",
   "id": "extra-discussion",
   "metadata": {},
   "source": [
    "### 2.c.\n",
    "\n",
    "Create two plots showing the simple linear regression models you fitted on the observed data when you pick the slope using the gradient descent algorithm above. One plot for data with and one plot for data without an intercept. Each plot should include at least the following:\n",
    "- A scatter plot of all the observed data\n",
    "- Regression lines for the simple linear regression models \n",
    "- An appropriate title, a legend showing which line is which, and labels for both axes\n",
    "\n",
    "Clarification: Take the data generated (with_intercept=True) for 2A and 2B and plot the two lines that you fitted from 2A and 2B, plotted with a scatterplot of the data. Thats one plot. Then generate a new dataset without an intercept (set with_intercept=False when you call generate_dataset) and do the same plot again; two lines, one for each learning rate. The lines you are fitting are still models with no \"bias term\" (no theta-zero).\n"
   ]
  },
  {
   "cell_type": "code",
   "id": "37fc69e1",
   "metadata": {
    "ExecuteTime": {
     "end_time": "2025-10-22T16:35:47.552578Z",
     "start_time": "2025-10-22T16:35:47.342693Z"
    }
   },
   "source": [
    "sns.scatterplot(data=data, x='X', y='Y')\n",
    "plt.plot(data['X'], best_slope1 * data['X'], label='a = .01')\n",
    "plt.plot(data['X'], best_slope2 * data['X'], label='a = .1')\n",
    "plt.plot()\n",
    "plt.legend()\n",
    "plt.title('Simple Linear Regression with Gradient Descent with Intercept = True')\n",
    "plt.xlabel('X')\n",
    "plt.ylabel('Y')\n",
    "plt.show()"
   ],
   "outputs": [
    {
     "data": {
      "text/plain": [
       "<Figure size 640x480 with 1 Axes>"
      ],
      "image/png": "[encoded data removed]"
     },
     "metadata": {},
     "output_type": "display_data",
     "jetTransient": {
      "display_id": null
     }
    }
   ],
   "execution_count": 10
  },
  {
   "metadata": {},
   "cell_type": "markdown",
   "source": [
    "# Observation\n",
    "The data generated has values that fall below the X intercept due to intercept = -int(with_intercept) * 2 of the data generated creating values\n",
    "below the x-intercept when with_intercept is set to true. Since our linear regression model has no theta_0 or bias weight to update during training it only\n",
    "is able to create a model that starts from the origin point (0,0), this leads to a model that is not able to fit the data very well. We can also see that the model with the higher learning rate is able to fit the data better since it is able to converge faster on less training epochs, and as shown by the final loss values. However if we were to maybe train for longer the model with the smaller learning rate would be able to fit the data better.\n",
    "\n",
    "\n",
    "The tradeoff I want you to observe is:\n",
    "\n",
    "    When the linear data does not have an intercept, using a model with an intercept term (bias term) will take longer to converge.\n",
    "    When the linear data does have an intercept, using a model without an intercept term (bias term) can’t fit it well."
   ],
   "id": "85edfca3a51a2491"
  },
  {
   "metadata": {
    "ExecuteTime": {
     "end_time": "2025-10-22T16:37:12.516528Z",
     "start_time": "2025-10-22T16:37:12.513374Z"
    }
   },
   "cell_type": "code",
   "source": "data2 = generate_dataset(slope=10, with_intercept=False)\n",
   "id": "ac047bb351957992",
   "outputs": [],
   "execution_count": 11
  },
  {
   "metadata": {},
   "cell_type": "markdown",
   "source": "We need to go back and retrain the model with this new data now that it has data with no intercept",
   "id": "237f67b35ec6339"
  },
  {
   "metadata": {
    "ExecuteTime": {
     "end_time": "2025-10-22T16:37:15.173729Z",
     "start_time": "2025-10-22T16:37:15.101781Z"
    }
   },
   "cell_type": "code",
   "source": [
    "slope = .1\n",
    "a = .1\n",
    "epochs = 100\n",
    "\n",
    "\n",
    "weights, losses = gradient_descent(df=mse_loss_derivative, initial_guess=slope, alpha=a, n=epochs, data=data2)\n",
    "\n",
    "\n",
    "best_slope3 = weights[-1]\n",
    "\n",
    "\n",
    "print(f\"Best Slope: {best_slope3}\")\n",
    "print(f\"Final Loss: {losses[99]}\")\n",
    "\n"
   ],
   "id": "27d33aae30bc5ad",
   "outputs": [
    {
     "name": "stdout",
     "output_type": "stream",
     "text": [
      "Best Slope: 9.740544462263319\n",
      "Final Loss: 0.9111979574079636\n"
     ]
    }
   ],
   "execution_count": 12
  },
  {
   "metadata": {
    "ExecuteTime": {
     "end_time": "2025-10-22T16:37:17.565839Z",
     "start_time": "2025-10-22T16:37:17.504079Z"
    }
   },
   "cell_type": "code",
   "source": [
    "slope = .1\n",
    "a = .01\n",
    "epochs = 100\n",
    "\n",
    "\n",
    "weights, losses = gradient_descent(df=mse_loss_derivative, initial_guess=slope, alpha=a, n=epochs, data=data2)\n",
    "\n",
    "\n",
    "best_slope4 = weights[-1]\n",
    "\n",
    "\n",
    "print(f\"Best Slope: {best_slope4}\")\n",
    "print(f\"Final Loss: {losses[99]}\")"
   ],
   "id": "1e91d9bd3fde313c",
   "outputs": [
    {
     "name": "stdout",
     "output_type": "stream",
     "text": [
      "Best Slope: 4.3673901391047565\n",
      "Final Loss: 9.55854528752268\n"
     ]
    }
   ],
   "execution_count": 13
  },
  {
   "metadata": {
    "ExecuteTime": {
     "end_time": "2025-10-22T16:37:20.915436Z",
     "start_time": "2025-10-22T16:37:20.772217Z"
    }
   },
   "cell_type": "code",
   "source": [
    "sns.scatterplot(data=data2, x='X', y='Y')\n",
    "plt.plot(data2['X'], best_slope3 * data2['X'], label='a = .1')\n",
    "plt.plot(data2['X'], best_slope4 * data2['X'], label='a = .01')\n",
    "plt.plot()\n",
    "plt.legend()\n",
    "plt.title('Simple Linear Regression with Gradient Descent with Intercept = False')\n",
    "plt.xlabel('X')\n",
    "plt.ylabel('Y')\n",
    "plt.show()"
   ],
   "id": "81f07481b66c463f",
   "outputs": [
    {
     "data": {
      "text/plain": [
       "<Figure size 640x480 with 1 Axes>"
      ],
      "image/png": "[encoded data removed]"
     },
     "metadata": {},
     "output_type": "display_data",
     "jetTransient": {
      "display_id": null
     }
    }
   ],
   "execution_count": 14
  },
  {
   "cell_type": "markdown",
   "id": "understood-haven",
   "metadata": {},
   "source": [
    "### 2.d.\n",
    "Which value of $\\alpha$ resulted in a better model? Why?"
   ]
  },
  {
   "cell_type": "markdown",
   "id": "compliant-moscow",
   "metadata": {},
   "source": [
    "The value that resulted in the best a value was the .1 value; the reason is why because it has a larger step size meaning that the model was updating at a faster\n",
    "rate, then the .01 value. However if given more training epochs the .01 maybe able to better fit and result in lower loss then the .1 value.\n",
    "\n",
    "\n",
    "## Observation\n",
    "When data is created with no intercept valuem, these models that have no bias term are able to better fit the data as evidenced by the lower loss value at the end for the .1 learning rate. However one intresting thing to note is that the model with the lower learning rate for data with no intercept has worse loss value at the end compared to the model with intercept data. As shown the first model is a \"better\" fit for the data past the x-intercept because it is tilted further there by leading to smaller loss."
   ]
  },
  {
   "cell_type": "markdown",
   "id": "lightweight-darwin",
   "metadata": {},
   "source": [
    "## Part 3 : Gradient Descent with 1-2 parameters\n",
    "\n",
    "### 3.a. \n",
    "Problem 2 did not include an intercept term (or \"bias\" term). Write a function calculate_y_hat(X, Y, with_intercept) that computes the value of y_hat for your model using either one or two parameters (slope and intercept or just slope) based on whether or not an intercept term is specified within the model. The argument with_intercept should be a boolean.\n",
    "\n",
    "Hint: Use sklearn.linear_model.LinearRegression library\n",
    "\n",
    "https://scikit-learn.org/stable/modules/generated/sklearn.linear_model.LinearRegression.html"
   ]
  },
  {
   "cell_type": "code",
   "id": "infrared-reynolds",
   "metadata": {
    "ExecuteTime": {
     "end_time": "2025-10-22T16:38:28.228254Z",
     "start_time": "2025-10-22T16:38:28.225530Z"
    }
   },
   "source": [
    "\n",
    "def calculate_y_hat(X, theta, theta_0,with_intercept):\n",
    "    \"\"\"\n",
    "        Calculuates y hat with or without the intercept.\n",
    "        Parameters\n",
    "        ----------\n",
    "        X: feature data\n",
    "        Y: target data\n",
    "\n",
    "        Returns\n",
    "        -------\n",
    "        weights needed for final model\n",
    "\n",
    "    \"\"\"\n",
    "    if with_intercept:\n",
    "        y_hat = theta * X + theta_0\n",
    "    else:\n",
    "        y_hat = theta * X\n",
    "    return y_hat\n",
    "\n"
   ],
   "outputs": [],
   "execution_count": 15
  },
  {
   "metadata": {
    "ExecuteTime": {
     "end_time": "2025-10-22T16:38:30.325379Z",
     "start_time": "2025-10-22T16:38:30.321170Z"
    }
   },
   "cell_type": "code",
   "source": [
    "\n",
    "def train(data, epochs, theta, theta_0, alpha):\n",
    "\n",
    "    if theta_0 == -1:\n",
    "        thetas = [theta]\n",
    "\n",
    "    else:\n",
    "        thetas = [(theta, theta_0)]\n",
    "\n",
    "    epochs_loss = {}\n",
    "\n",
    "    for i in range(epochs):\n",
    "        if theta_0 == -1:\n",
    "            y_hat = calculate_y_hat(data[\"X\"], theta, theta_0, with_intercept=False)\n",
    "        else :\n",
    "            y_hat = calculate_y_hat(data[\"X\"], theta, theta_0, with_intercept=True)\n",
    "\n",
    "        loss  = np.mean((y_hat - data[\"Y\"]) ** 2)\n",
    "        epochs_loss[i] = loss\n",
    "        #theta update\n",
    "        theta = theta - alpha * np.mean(2 * (y_hat - data[\"Y\"]) * data[\"X\"])\\\n",
    "\n",
    "        if theta_0 != -1:\n",
    "            theta_0 = theta_0 - alpha * np.mean(2 * (y_hat - data[\"Y\"]))\n",
    "\n",
    "            thetas.append((theta, theta_0))\n",
    "        else:\n",
    "            thetas.append(theta)\n",
    "\n",
    "    return thetas, epochs_loss\n"
   ],
   "id": "d49971b02e5be6a7",
   "outputs": [],
   "execution_count": 16
  },
  {
   "metadata": {
    "ExecuteTime": {
     "end_time": "2025-10-22T16:38:32.505150Z",
     "start_time": "2025-10-22T16:38:32.442217Z"
    }
   },
   "cell_type": "code",
   "source": [
    "## training for y hat no theta_0\n",
    "epochs = 100\n",
    "theta = 0\n",
    "theta_0 = -1\n",
    "alpha = .1\n",
    "\n",
    "thetas = [theta]\n",
    "epochs_loss = {}\n",
    "\n",
    "thetas, epochs_loss = train(data, epochs, theta, theta_0, alpha)\n",
    "\n",
    "\n",
    "best_theta1 = thetas[-1]\n",
    "print(\"Best theta, \", best_theta1)\n",
    "print(\"Final loss: \", epochs_loss[99])\n",
    "\n"
   ],
   "id": "cf316c2f4ed6b4b6",
   "outputs": [
    {
     "name": "stdout",
     "output_type": "stream",
     "text": [
      "Best theta,  6.471124477639049\n",
      "Final loss:  1.9756164768877331\n"
     ]
    }
   ],
   "execution_count": 17
  },
  {
   "metadata": {
    "ExecuteTime": {
     "end_time": "2025-10-22T16:39:13.237907Z",
     "start_time": "2025-10-22T16:39:13.165550Z"
    }
   },
   "cell_type": "code",
   "source": [
    "## training for y hat with theta_0\n",
    "epochs = 100\n",
    "theta = 0\n",
    "theta_0 = 0\n",
    "alpha = .1\n",
    "thetas, epochs_loss = train(data, epochs, theta, theta_0, alpha)\n",
    "\n",
    "\n",
    "best_theta2 = thetas[-1]\n",
    "print(\"Best theta, \", best_theta2)\n",
    "print(\"Final loss: \", epochs_loss[99])\n",
    "\n"
   ],
   "id": "1c3b9f11ec6ece01",
   "outputs": [
    {
     "name": "stdout",
     "output_type": "stream",
     "text": [
      "Best theta,  (np.float64(7.450062803363217), np.float64(-0.9432764474544965))\n",
      "Final loss:  1.2379537013178707\n"
     ]
    }
   ],
   "execution_count": 18
  },
  {
   "cell_type": "markdown",
   "id": "undefined-acting",
   "metadata": {},
   "source": [
    ")### 3.b.\n",
    "\n",
    "Create a plot below comparing our fitted simple linear regression model on the observed data for when it includes an intercept v.s. when it does not include an intercept. Your plot should include at least the following:\n",
    "- A scatter plot of all the observed data\n",
    "- A line plot for the simple linear regression model without an intercept\n",
    "- A line plot for the simple linear regression model with an intercept\n",
    "- An appropriate title, a legend labeling which line contains an intercept, and labels for both axes\n",
    "\n",
    "You should use different colors for the two line plots"
   ]
  },
  {
   "cell_type": "code",
   "id": "integrated-fellow",
   "metadata": {
    "ExecuteTime": {
     "end_time": "2025-10-22T16:39:26.296341Z",
     "start_time": "2025-10-22T16:39:26.167889Z"
    }
   },
   "source": [
    "theta, theta_0 = best_theta2\n",
    "\n",
    "sns.scatterplot(data=data, x='X', y='Y')\n",
    "plt.plot(data['X'], best_theta1 * data['X'], label='with no theta_0')\n",
    "plt.plot(data['X'], theta * data['X'] + theta_0, label=' with theta_0')\n",
    "plt.legend()\n",
    "plt.title('Linear Regression with Intercept Data')\n",
    "plt.xlabel('X')\n",
    "plt.ylabel('Y')\n",
    "plt.show()"
   ],
   "outputs": [
    {
     "data": {
      "text/plain": [
       "<Figure size 640x480 with 1 Axes>"
      ],
      "image/png": "[encoded data removed]"
     },
     "metadata": {},
     "output_type": "display_data",
     "jetTransient": {
      "display_id": null
     }
    }
   ],
   "execution_count": 19
  },
  {
   "metadata": {
    "ExecuteTime": {
     "end_time": "2025-10-22T16:50:23.264145Z",
     "start_time": "2025-10-22T16:50:23.211100Z"
    }
   },
   "cell_type": "code",
   "source": [
    "#training a model with no bias term on data that does not have an intercept\n",
    "epochs = 100\n",
    "theta = 0\n",
    "theta_0 = -1\n",
    "alpha = .1\n",
    "thetas, epochs_loss = train(data2, epochs, theta, theta_0, alpha)\n",
    "\n",
    "\n",
    "best_theta3 = thetas[-1]\n",
    "print(\"Best theta, \", best_theta3)\n",
    "print(\"Final loss: \", epochs_loss[99])"
   ],
   "id": "f3477a9d841b722",
   "outputs": [
    {
     "name": "stdout",
     "output_type": "stream",
     "text": [
      "Best theta,  9.741733321561261\n",
      "Final loss:  0.9111792997843486\n"
     ]
    }
   ],
   "execution_count": 30
  },
  {
   "metadata": {
    "ExecuteTime": {
     "end_time": "2025-10-22T16:50:25.045838Z",
     "start_time": "2025-10-22T16:50:24.979086Z"
    }
   },
   "cell_type": "code",
   "source": [
    "#training a model with bias term on data that does have an intercept\n",
    "epochs = 100\n",
    "theta = 0\n",
    "theta_0 = 0\n",
    "alpha = .1\n",
    "thetas, epochs_loss = train(data2, epochs, theta, theta_0, alpha)\n",
    "\n",
    "best_theta4 = thetas[-1]\n",
    "print(\"Best theta, \", best_theta4)\n",
    "print(\"Final loss: \", epochs_loss[99])"
   ],
   "id": "86860309ea01b118",
   "outputs": [
    {
     "name": "stdout",
     "output_type": "stream",
     "text": [
      "Best theta,  (np.float64(7.937849770413616), np.float64(0.8481024913269838))\n",
      "Final loss:  1.302667487292384\n"
     ]
    }
   ],
   "execution_count": 31
  },
  {
   "metadata": {
    "ExecuteTime": {
     "end_time": "2025-10-22T16:50:26.883665Z",
     "start_time": "2025-10-22T16:50:26.689416Z"
    }
   },
   "cell_type": "code",
   "source": [
    "theta, theta_0 = best_theta4\n",
    "\n",
    "sns.scatterplot(data=data2, x='X', y='Y')\n",
    "plt.plot(data2['X'], best_theta3 * data2['X'], label='with no theta_0')\n",
    "plt.plot(data2['X'], theta * data2['X'] + theta_0, label=' with theta_0')\n",
    "plt.legend()\n",
    "plt.title('Linear Regression with no Intercept Data')\n",
    "plt.xlabel('X')\n",
    "plt.ylabel('Y')\n",
    "plt.show()"
   ],
   "id": "7f995d162e911f0a",
   "outputs": [
    {
     "data": {
      "text/plain": [
       "<Figure size 640x480 with 1 Axes>"
      ],
      "image/png": "[encoded data removed]"
     },
     "metadata": {},
     "output_type": "display_data",
     "jetTransient": {
      "display_id": null
     }
    }
   ],
   "execution_count": 32
  },
  {
   "metadata": {},
   "cell_type": "markdown",
   "source": [
    "# Observation\n",
    "\n",
    "As shown above we trained 2 models each for each type of data, one with an intercept and one without an intercept. For the first set of data that does have an intercept;  we have two models one with a bias term theta_0 and one without. As shown by the visualization and the final loss of both of the models; the model with the theta_0 has a better fit for the data, and the one without the theta_0 has a worse fit. The model with the theta_0 ended with a loss of 1.23, and the model without the theta_0 ended with a loss of 1.97.\n",
    "\n",
    "For the second set of data that does not have an intercept; we have two models one with a bias term theta_0 and one without. As shown by the visualization and the final loss of both of the models; the model without the theta_0 had a better fit, indicating that the model with the theta_0 is taking longer to converge. This is evidence by the the fact that this model with theta_0 still performed well and got closer to the model without theta_0 convergence when given more training epochs."
   ],
   "id": "73874ce76dc63c2b"
  }
 ],
 "metadata": {
  "kernelspec": {
   "display_name": "Python 3",
   "language": "python",
   "name": "python3"
  },
  "language_info": {
   "codemirror_mode": {
    "name": "ipython",
    "version": 3
   },
   "file_extension": ".py",
   "mimetype": "text/x-python",
   "name": "python",
   "nbconvert_exporter": "python",
   "pygments_lexer": "ipython3",
   "version": "3.9.1"
  }
 },
 "nbformat": 4,
 "nbformat_minor": 5
}
